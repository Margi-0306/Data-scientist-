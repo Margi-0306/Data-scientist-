{
 "cells": [
  {
   "cell_type": "code",
   "execution_count": 1,
   "id": "6dd90447",
   "metadata": {},
   "outputs": [],
   "source": [
    "#import important library\n",
    "\n",
    "import pandas as pd\n",
    "import numpy as np\n",
    "from scipy import stats"
   ]
  },
  {
   "cell_type": "markdown",
   "id": "158ebc72",
   "metadata": {},
   "source": [
    "# 1. State the Hypotheses statement:"
   ]
  },
  {
   "cell_type": "code",
   "execution_count": 2,
   "id": "45047e7a",
   "metadata": {},
   "outputs": [
    {
     "data": {
      "text/plain": [
       "'According to given problem statment : The operating cost for a franchise in a week (W) is given by the equation W = $1,000 + $5X\\nAccording to New observation = this cost model may no longer be accurate, as their observed weekly operating costs are higher.\\n\\nSO in given statment it used higher word so that we will use one tail test to find t value.\\n\\nNull Hypotheses : The cost for a franchise in a week is less then or equal to $1,000 + $5X\\nAlternative Hypothese: The cost for a franchise in a week is greater then $1,000 + $5X'"
      ]
     },
     "execution_count": 2,
     "metadata": {},
     "output_type": "execute_result"
    }
   ],
   "source": [
    "'''According to given problem statment : The operating cost for a franchise in a week (W) is given by the equation W = $1,000 + $5X\n",
    "According to New observation = this cost model may no longer be accurate, as their observed weekly operating costs are higher.\n",
    "\n",
    "SO in given statment it used higher word so that we will use one tail test to find t value.\n",
    "\n",
    "Null Hypothesis (H0): The weekly operating cost follows the theoretical cost model.\n",
    "H0:μ=1000+5X\n",
    "\n",
    "Alternative Hypothesis (H1): The weekly operating cost is higher than the theoretical cost model.\n",
    "\n",
    "H0:μ>1000+5X'''\n",
    "    "
   ]
  },
  {
   "cell_type": "markdown",
   "id": "f2a075a3",
   "metadata": {},
   "source": [
    "# 2. Calculate the Test Statistic:"
   ]
  },
  {
   "cell_type": "code",
   "execution_count": null,
   "id": "2b7757e8",
   "metadata": {},
   "outputs": [],
   "source": [
    "According to our problem statment \"The cost for a franchise in a week is greater then $1,000 + $5X\" so that we have to use one sample t test to find the critical value and p value."
   ]
  },
  {
   "cell_type": "markdown",
   "id": "2797de57",
   "metadata": {},
   "source": [
    "# Formula for t :\n",
    "t = sample mean - theoritical mean/ (standard deviation/ squarroot of n)"
   ]
  },
  {
   "cell_type": "code",
   "execution_count": 3,
   "id": "4998c220",
   "metadata": {},
   "outputs": [],
   "source": [
    "import math "
   ]
  },
  {
   "cell_type": "code",
   "execution_count": 12,
   "id": "c3067ce2",
   "metadata": {},
   "outputs": [],
   "source": [
    "'''Given: mean = sample mean weekly cost (Rs. 3,050)\n",
    "μ = theoretical mean weekly cost according to the cost model (W = $1,000 + $5X for X = 600 units) = 1000+ 5*600 =4000\n",
    "σ = 5*25 units = 125\n",
    "n = sample size (25 restaurants)'''\n",
    "\n",
    "M = 3050\n",
    "μ = 4000\n",
    "σ = 125\n",
    "n = 25\n",
    "\n",
    "# Calculate the test statistic\n",
    "t_value = (M - μ) / (σ / math.sqrt(n))\n"
   ]
  },
  {
   "cell_type": "code",
   "execution_count": 13,
   "id": "02077feb",
   "metadata": {},
   "outputs": [
    {
     "name": "stdout",
     "output_type": "stream",
     "text": [
      "Test Statistic (t): -38.0\n"
     ]
    }
   ],
   "source": [
    "print(f\"Test Statistic (t): {t_value}\")"
   ]
  },
  {
   "cell_type": "markdown",
   "id": "c63e2b6a",
   "metadata": {},
   "source": [
    "# 3. Determine the Critical Value:"
   ]
  },
  {
   "cell_type": "code",
   "execution_count": 18,
   "id": "9c3c6eb8",
   "metadata": {},
   "outputs": [
    {
     "name": "stdout",
     "output_type": "stream",
     "text": [
      "Critical Value (p): 1.6448536269514722\n"
     ]
    }
   ],
   "source": [
    "α = 0.05\n",
    "# Determine the critical value for one-tailed test\n",
    "critical_value = stats.norm.ppf(1 - α)\n",
    "print(f\"Critical Value (p): {critical_value}\")"
   ]
  },
  {
   "cell_type": "markdown",
   "id": "53ed14e9",
   "metadata": {},
   "source": [
    "# 4.Decision Making:"
   ]
  },
  {
   "cell_type": "code",
   "execution_count": null,
   "id": "c54ed032",
   "metadata": {},
   "outputs": [],
   "source": [
    "Here probability value is grater than alpha value so that we have to accept Null Hypothesis.\n",
    "\n",
    "If p is higher then alpha then our Null Hypothesis is acepted.\n"
   ]
  },
  {
   "cell_type": "markdown",
   "id": "1203713c",
   "metadata": {},
   "source": [
    "# 5. Conclusion"
   ]
  },
  {
   "cell_type": "code",
   "execution_count": null,
   "id": "8db9bd57",
   "metadata": {},
   "outputs": [],
   "source": [
    "There is not enough evidence to support the restaurant owners' claim that the weekly operating costs are higher than the model suggests."
   ]
  }
 ],
 "metadata": {
  "kernelspec": {
   "display_name": "Python 3 (ipykernel)",
   "language": "python",
   "name": "python3"
  },
  "language_info": {
   "codemirror_mode": {
    "name": "ipython",
    "version": 3
   },
   "file_extension": ".py",
   "mimetype": "text/x-python",
   "name": "python",
   "nbconvert_exporter": "python",
   "pygments_lexer": "ipython3",
   "version": "3.11.5"
  }
 },
 "nbformat": 4,
 "nbformat_minor": 5
}
