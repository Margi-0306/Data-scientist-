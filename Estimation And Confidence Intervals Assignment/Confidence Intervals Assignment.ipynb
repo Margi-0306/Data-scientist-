{
 "cells": [
  {
   "cell_type": "code",
   "execution_count": 2,
   "id": "a40e9457-3c5e-48be-a421-5f604c5df716",
   "metadata": {},
   "outputs": [],
   "source": [
    "#import importand library \n",
    "from scipy import stats\n",
    "import pandas as pd\n",
    "import numpy as np\n"
   ]
  },
  {
   "cell_type": "code",
   "execution_count": 11,
   "id": "b5779a4f-2f83-4f63-8293-222cf707594c",
   "metadata": {},
   "outputs": [
    {
     "data": {
      "text/plain": [
       "[1.13,\n",
       " 1.55,\n",
       " 1.43,\n",
       " 0.92,\n",
       " 1.25,\n",
       " 1.36,\n",
       " 1.32,\n",
       " 0.85,\n",
       " 1.07,\n",
       " 1.48,\n",
       " 1.2,\n",
       " 1.33,\n",
       " 1.18,\n",
       " 1.22,\n",
       " 1.29]"
      ]
     },
     "execution_count": 11,
     "metadata": {},
     "output_type": "execute_result"
    }
   ],
   "source": [
    "# load Sample data :\n",
    "Data = [1.13, 1.55, 1.43, 0.92, 1.25, 1.36, 1.32, 0.85, 1.07, 1.48, 1.20, 1.33, 1.18, 1.22, 1.29]\n",
    "\n",
    "Data"
   ]
  },
  {
   "cell_type": "code",
   "execution_count": 10,
   "id": "fcbc967a-1293-4fad-a0ac-a668ed22c4a4",
   "metadata": {},
   "outputs": [
    {
     "data": {
      "text/html": [
       "<div>\n",
       "<style scoped>\n",
       "    .dataframe tbody tr th:only-of-type {\n",
       "        vertical-align: middle;\n",
       "    }\n",
       "\n",
       "    .dataframe tbody tr th {\n",
       "        vertical-align: top;\n",
       "    }\n",
       "\n",
       "    .dataframe thead th {\n",
       "        text-align: right;\n",
       "    }\n",
       "</style>\n",
       "<table border=\"1\" class=\"dataframe\">\n",
       "  <thead>\n",
       "    <tr style=\"text-align: right;\">\n",
       "      <th></th>\n",
       "      <th>0</th>\n",
       "    </tr>\n",
       "  </thead>\n",
       "  <tbody>\n",
       "    <tr>\n",
       "      <th>0</th>\n",
       "      <td>1.13</td>\n",
       "    </tr>\n",
       "    <tr>\n",
       "      <th>1</th>\n",
       "      <td>1.55</td>\n",
       "    </tr>\n",
       "    <tr>\n",
       "      <th>2</th>\n",
       "      <td>1.43</td>\n",
       "    </tr>\n",
       "    <tr>\n",
       "      <th>3</th>\n",
       "      <td>0.92</td>\n",
       "    </tr>\n",
       "    <tr>\n",
       "      <th>4</th>\n",
       "      <td>1.25</td>\n",
       "    </tr>\n",
       "    <tr>\n",
       "      <th>5</th>\n",
       "      <td>1.36</td>\n",
       "    </tr>\n",
       "    <tr>\n",
       "      <th>6</th>\n",
       "      <td>1.32</td>\n",
       "    </tr>\n",
       "    <tr>\n",
       "      <th>7</th>\n",
       "      <td>0.85</td>\n",
       "    </tr>\n",
       "    <tr>\n",
       "      <th>8</th>\n",
       "      <td>1.07</td>\n",
       "    </tr>\n",
       "    <tr>\n",
       "      <th>9</th>\n",
       "      <td>1.48</td>\n",
       "    </tr>\n",
       "    <tr>\n",
       "      <th>10</th>\n",
       "      <td>1.20</td>\n",
       "    </tr>\n",
       "    <tr>\n",
       "      <th>11</th>\n",
       "      <td>1.33</td>\n",
       "    </tr>\n",
       "    <tr>\n",
       "      <th>12</th>\n",
       "      <td>1.18</td>\n",
       "    </tr>\n",
       "    <tr>\n",
       "      <th>13</th>\n",
       "      <td>1.22</td>\n",
       "    </tr>\n",
       "    <tr>\n",
       "      <th>14</th>\n",
       "      <td>1.29</td>\n",
       "    </tr>\n",
       "  </tbody>\n",
       "</table>\n",
       "</div>"
      ],
      "text/plain": [
       "       0\n",
       "0   1.13\n",
       "1   1.55\n",
       "2   1.43\n",
       "3   0.92\n",
       "4   1.25\n",
       "5   1.36\n",
       "6   1.32\n",
       "7   0.85\n",
       "8   1.07\n",
       "9   1.48\n",
       "10  1.20\n",
       "11  1.33\n",
       "12  1.18\n",
       "13  1.22\n",
       "14  1.29"
      ]
     },
     "execution_count": 10,
     "metadata": {},
     "output_type": "execute_result"
    }
   ],
   "source": [
    "\n",
    "#conevert data into dataframe:\n",
    "sample_df = pd.DataFrame(Data)\n",
    "# Checke datafram\n",
    "sample_df"
   ]
  },
  {
   "cell_type": "code",
   "execution_count": 12,
   "id": "1bc1fc44-af74-4eba-ba43-d3b3ccffddb4",
   "metadata": {},
   "outputs": [
    {
     "data": {
      "text/plain": [
       "0    1.238667\n",
       "dtype: float64"
      ]
     },
     "execution_count": 12,
     "metadata": {},
     "output_type": "execute_result"
    }
   ],
   "source": [
    "#Calculate mean for sample data:\n",
    "sample_df.mean() "
   ]
  },
  {
   "cell_type": "code",
   "execution_count": 13,
   "id": "7c62a6ae-2646-4038-b43b-38476f769815",
   "metadata": {},
   "outputs": [
    {
     "data": {
      "text/plain": [
       "0    0.193164\n",
       "dtype: float64"
      ]
     },
     "execution_count": 13,
     "metadata": {},
     "output_type": "execute_result"
    }
   ],
   "source": [
    "#Calculate standard deviation for sample data:\n",
    "sample_df.std()"
   ]
  },
  {
   "cell_type": "markdown",
   "id": "8a36369c-eca6-41ea-9d79-1bd94e5e940a",
   "metadata": {},
   "source": [
    "##  Build 99% Confidence Interval Using Sample Standard Deviation"
   ]
  },
  {
   "cell_type": "code",
   "execution_count": null,
   "id": "44461918-ccf6-4e9d-aa62-037d79d0d692",
   "metadata": {},
   "outputs": [],
   "source": [
    "''' Here we have to find confidence level for sample data so we have to use t distribution \n",
    "when we are using t distribution then formula for confidence interval is '''\n",
    "\n",
    "\n",
    "##CI = mean of sample +- t(sample standard deviation/ root of sample) \n",
    "#here t is our confidence level \n",
    "In this case our confidence level is 99%"
   ]
  },
  {
   "cell_type": "code",
   "execution_count": 27,
   "id": "767ff38a-9853-4ad4-bde4-806002bdea3e",
   "metadata": {},
   "outputs": [
    {
     "name": "stdout",
     "output_type": "stream",
     "text": [
      "Confidence interval for sample standard deviation: [[0.7411]\n",
      " [1.7362]]\n"
     ]
    }
   ],
   "source": [
    "#Find confidence interval \n",
    "Sample_interval = np.round(stats.norm.interval( 0.99, sample_df.mean(), sample_df.std()) , 4)\n",
    "\n",
    "# print confidence interval for sample standard deviation:\n",
    "print(f\"Confidence interval for sample standard deviation: {Sample_interval}\")"
   ]
  },
  {
   "cell_type": "code",
   "execution_count": 28,
   "id": "52b9aa43-6c44-47b1-bd64-af3d99d1d4b8",
   "metadata": {},
   "outputs": [
    {
     "name": "stdout",
     "output_type": "stream",
     "text": [
      "Confidence interval for sample standard deviation: [[0.7411]\n",
      " [1.7362]]\n"
     ]
    }
   ],
   "source": [
    "# print confidence interval for sample standard deviation:\n",
    "print(f\"Confidence interval for sample standard deviation: {Sample_interval}\")"
   ]
  },
  {
   "cell_type": "markdown",
   "id": "6707dd4b-bd3a-4fe4-a738-af06f36dc628",
   "metadata": {},
   "source": [
    "# Build 99% Confidence Interval Using Known Population Standard Deviation"
   ]
  },
  {
   "cell_type": "code",
   "execution_count": null,
   "id": "2f7f6984-2d03-42cf-aff3-ad16a5fa6dc2",
   "metadata": {},
   "outputs": [],
   "source": [
    "''' Here we have to find confidence level for Population Standard  '''\n",
    "\n",
    "\n",
    "##CI = mean of sample +- Z (Population Standard/ root of number sample) \n",
    "#here Z is our confidence level \n",
    "In this case our confidence level is 99%\n",
    "Population Standard Deviation = 0.2 "
   ]
  },
  {
   "cell_type": "code",
   "execution_count": 35,
   "id": "5525c9fd-7d10-4186-b56d-5865d89a4a72",
   "metadata": {},
   "outputs": [
    {
     "name": "stdout",
     "output_type": "stream",
     "text": [
      "Confidence interval for sample standard deviation: [[0.7235]\n",
      " [1.7538]]\n"
     ]
    }
   ],
   "source": [
    "#Find confidence interval for Population Standard Deviation \n",
    "Population_Interval = np.round(stats.norm.interval( 0.99, sample_df.mean(), 0.2 ) , 4)\n",
    "\n",
    "# print confidence interval for sample standard deviation:\n",
    "print(f\"Confidence interval for sample standard deviation: {Population_Interval}\")"
   ]
  },
  {
   "cell_type": "code",
   "execution_count": null,
   "id": "3b9dc523-a860-4a12-be69-fc4c7a27f88f",
   "metadata": {},
   "outputs": [],
   "source": []
  }
 ],
 "metadata": {
  "kernelspec": {
   "display_name": "Python 3 (ipykernel)",
   "language": "python",
   "name": "python3"
  },
  "language_info": {
   "codemirror_mode": {
    "name": "ipython",
    "version": 3
   },
   "file_extension": ".py",
   "mimetype": "text/x-python",
   "name": "python",
   "nbconvert_exporter": "python",
   "pygments_lexer": "ipython3",
   "version": "3.11.5"
  }
 },
 "nbformat": 4,
 "nbformat_minor": 5
}
